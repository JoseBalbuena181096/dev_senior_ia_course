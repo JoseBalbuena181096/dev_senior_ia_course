{
 "cells": [
  {
   "cell_type": "code",
   "execution_count": 5,
   "id": "aff836c5",
   "metadata": {},
   "outputs": [
    {
     "name": "stdout",
     "output_type": "stream",
     "text": [
      "(3+4j)\n",
      "(2+0j)\n",
      "   2\n",
      "1 x + 2 x\n"
     ]
    }
   ],
   "source": [
    "z1 = 2 + 3j\n",
    "z2 = 1 + 1j\n",
    "print(z1 + z2)\n",
    "z3 = 1 + 1j\n",
    "z4 = 1 - 1j\n",
    "print(z3 + z4)\n",
    "import numpy as np \n",
    "z5 = np.poly1d([1,1,1]) + np.poly1d([1,-1])\n",
    "print(z5)\n"
   ]
  },
  {
   "cell_type": "code",
   "execution_count": 6,
   "id": "fdd81ebb",
   "metadata": {},
   "outputs": [
    {
     "name": "stdout",
     "output_type": "stream",
     "text": [
      "(-1+5j)\n",
      "(2+0j)\n",
      "    3\n",
      "-1 x + 1\n",
      "   2\n",
      "1 x + 2 x + 1\n",
      "    2\n",
      "-1 x + 1\n"
     ]
    }
   ],
   "source": [
    "z1 = 2 + 3j\n",
    "z2 = 1 + 1j\n",
    "print(z1 * z2)\n",
    "z3 = 1 + 1j\n",
    "z4 = 1 - 1j\n",
    "print(z3 + z4)\n",
    "z5 = np.poly1d([1,1,1]) * np.poly1d([-1,1])\n",
    "print(z5)\n",
    "z6 = np.poly1d([1,1]) * np.poly1d([1,1])\n",
    "print(z6)\n",
    "z7 = np.poly1d([1,1]) * np.poly1d([-1,1])\n",
    "print(z7)"
   ]
  },
  {
   "cell_type": "code",
   "execution_count": 7,
   "id": "6f54ca41",
   "metadata": {},
   "outputs": [
    {
     "name": "stdout",
     "output_type": "stream",
     "text": [
      "3.605551275463989\n",
      "1.0\n",
      "5.0\n",
      "2.0\n",
      "5.0990195135927845\n",
      "2.0\n"
     ]
    }
   ],
   "source": [
    "z1 = 2 + 3j\n",
    "print(abs(z1))\n",
    "z2 = 1j\n",
    "print(abs(z2))\n",
    "z3 = (2 + 3j) + (1 + 1j)\n",
    "print(abs(z3))\n",
    "z4 = (1 + 1j) + (1 - 1j)\n",
    "print(abs(z4))\n",
    "z5 = (2 + 3j) * (1 + 1j)\n",
    "print(abs(z5))\n",
    "z6 = (1 + 1j) * (1 + 1j)\n",
    "print(abs(z6))"
   ]
  },
  {
   "cell_type": "code",
   "execution_count": null,
   "id": "4d2ce9ce",
   "metadata": {},
   "outputs": [
    {
     "name": "stdout",
     "output_type": "stream",
     "text": [
      "Poly(2*x + 2, x, domain='ZZ')\n",
      "1\n"
     ]
    }
   ],
   "source": [
    "import sympy as sp\n",
    "\n",
    "x = sp.symbols('x')\n",
    "p = sp.Poly(2*x + 2)  # grado 1\n",
    "print(p.degree())"
   ]
  },
  {
   "cell_type": "code",
   "execution_count": 10,
   "id": "0d530af5",
   "metadata": {},
   "outputs": [
    {
     "name": "stdout",
     "output_type": "stream",
     "text": [
      "Poly(x**5 + 3*x + 2, x, domain='ZZ')\n",
      "5\n"
     ]
    }
   ],
   "source": [
    "p2 = sp.Poly(x**5 + 3*x + 2)\n",
    "print(p2)\n",
    "print(p2.degree())\n"
   ]
  },
  {
   "cell_type": "code",
   "execution_count": 12,
   "id": "51a74fcf",
   "metadata": {},
   "outputs": [
    {
     "name": "stdout",
     "output_type": "stream",
     "text": [
      "Poly(x**3 - 1, x, domain='ZZ')\n",
      "3\n"
     ]
    }
   ],
   "source": [
    "p3 = sp.Poly(x**2 + x + 1)\n",
    "p4 = sp.Poly(x - 1)\n",
    "p5 = p3 * p4\n",
    "print(p5)\n",
    "print(p5.degree())"
   ]
  },
  {
   "cell_type": "code",
   "execution_count": 13,
   "id": "494fd292",
   "metadata": {},
   "outputs": [
    {
     "name": "stdout",
     "output_type": "stream",
     "text": [
      "Poly(x**2 + 2*x + 1, x, domain='ZZ')\n",
      "2\n"
     ]
    }
   ],
   "source": [
    "p6 = sp.Poly(x + 1)\n",
    "p7 = p6 * p6\n",
    "print(p7)\n",
    "print(p7.degree())"
   ]
  },
  {
   "cell_type": "code",
   "execution_count": 14,
   "id": "3881ba65",
   "metadata": {},
   "outputs": [
    {
     "name": "stdout",
     "output_type": "stream",
     "text": [
      "Poly(x**2 - 1, x, domain='ZZ')\n",
      "2\n"
     ]
    }
   ],
   "source": [
    "p8 = sp.Poly(x + 1)\n",
    "p9 = sp.Poly(x - 1)\n",
    "p10 = p9 * p8\n",
    "print(p10)\n",
    "print(p10.degree())"
   ]
  },
  {
   "cell_type": "code",
   "execution_count": 16,
   "id": "29d1d878",
   "metadata": {},
   "outputs": [
    {
     "name": "stdout",
     "output_type": "stream",
     "text": [
      "Poly(x**2 + 2*x + 1, x, domain='ZZ')\n",
      "Poly(x**2 + 1, x, domain='ZZ')\n",
      "False\n"
     ]
    }
   ],
   "source": [
    "import sympy as sp\n",
    "\n",
    "x = sp.symbols('x')\n",
    "p = sp.Poly((x + 1)**2)\n",
    "print(p)\n",
    "p2 = sp.Poly((x**2 + 1))\n",
    "print(p2)\n",
    "print(p == p2)\n"
   ]
  },
  {
   "cell_type": "code",
   "execution_count": 17,
   "id": "60c9e475",
   "metadata": {},
   "outputs": [
    {
     "name": "stdout",
     "output_type": "stream",
     "text": [
      "Poly(x**2 + 2*x + 1, x, domain='ZZ')\n",
      "Poly(x**2 + 2*x + 1, x, domain='ZZ')\n",
      "True\n"
     ]
    }
   ],
   "source": [
    "p3 = sp.Poly((x + 1)**2)\n",
    "p4 = sp.Poly((x**2 + 2*x + 1))\n",
    "print(p3)\n",
    "print(p4)\n",
    "print(p3 == p4)"
   ]
  },
  {
   "cell_type": "code",
   "execution_count": 18,
   "id": "350bbb65",
   "metadata": {},
   "outputs": [
    {
     "name": "stdout",
     "output_type": "stream",
     "text": [
      "Poly(x**3 + 3*x**2 + 3*x + 1, x, domain='ZZ')\n",
      "Poly(x**3 + 1, x, domain='ZZ')\n",
      "False\n"
     ]
    }
   ],
   "source": [
    "p5 = sp.Poly((x + 1)**3)\n",
    "p6 = sp.Poly((x**3 + 1))\n",
    "print(p5)\n",
    "print(p6)\n",
    "print(p5 == p6)"
   ]
  },
  {
   "cell_type": "code",
   "execution_count": 19,
   "id": "a06f63a9",
   "metadata": {},
   "outputs": [
    {
     "name": "stdout",
     "output_type": "stream",
     "text": [
      "Poly(x**3 + 3*x**2 + 3*x + 1, x, domain='ZZ')\n",
      "Poly(x**3 + 3*x**2 + 3*x + 1, x, domain='ZZ')\n",
      "True\n"
     ]
    }
   ],
   "source": [
    "p7 = sp.Poly((x + 1)**3)\n",
    "p8 = sp.Poly((x**3 + 3*x**2 + 3*x + 1))\n",
    "print(p7)\n",
    "print(p8)\n",
    "print(p7 == p8)"
   ]
  },
  {
   "cell_type": "code",
   "execution_count": 20,
   "id": "f31a0084",
   "metadata": {},
   "outputs": [
    {
     "name": "stdout",
     "output_type": "stream",
     "text": [
      "Poly(x**2 - 1, x, domain='ZZ')\n",
      "Poly(x**2 - 1, x, domain='ZZ')\n",
      "True\n"
     ]
    }
   ],
   "source": [
    "p9 = sp.Poly((x + 1)*(x-1))\n",
    "p10 = sp.Poly((x**2 - 1))\n",
    "print(p9)\n",
    "print(p10)\n",
    "print(p9 == p10)"
   ]
  },
  {
   "cell_type": "code",
   "execution_count": null,
   "id": "9149713f",
   "metadata": {},
   "outputs": [
    {
     "name": "stdout",
     "output_type": "stream",
     "text": [
      "Poly(2*x + 2, x, domain='ZZ')\n",
      "Poly(x**2 - 2*x + 1, x, domain='ZZ')\n",
      "False\n"
     ]
    }
   ],
   "source": [
    "p11 = sp.Poly((x + 1)*2)\n",
    "p12 = sp.Poly((x**2 - 2*x + 1))\n",
    "print(p11)\n",
    "print(p12)\n",
    "print(p11 == p12)"
   ]
  },
  {
   "cell_type": "code",
   "execution_count": 22,
   "id": "e3e0d998",
   "metadata": {},
   "outputs": [
    {
     "name": "stdout",
     "output_type": "stream",
     "text": [
      "[-1]\n"
     ]
    }
   ],
   "source": [
    "import sympy as sp\n",
    "\n",
    "# Definir variable simbólica\n",
    "x = sp.symbols('x')\n",
    "p1 = sp.Poly(2*x + 2)\n",
    "r1 = sp.solve(p1, x)\n",
    "print(r1)"
   ]
  },
  {
   "cell_type": "code",
   "execution_count": 23,
   "id": "cb63fcc6",
   "metadata": {},
   "outputs": [
    {
     "name": "stdout",
     "output_type": "stream",
     "text": [
      "[CRootOf(x**5 + 3*x + 2, 0), CRootOf(x**5 + 3*x + 2, 1), CRootOf(x**5 + 3*x + 2, 2), CRootOf(x**5 + 3*x + 2, 3), CRootOf(x**5 + 3*x + 2, 4)]\n"
     ]
    }
   ],
   "source": [
    "p2 = sp.Poly(x**5 + 3*x +2)\n",
    "r2 = sp.solve(p2, x)\n",
    "print(r2)"
   ]
  },
  {
   "cell_type": "code",
   "execution_count": 24,
   "id": "ece7e8ea",
   "metadata": {},
   "outputs": [
    {
     "name": "stdout",
     "output_type": "stream",
     "text": [
      "[1, -1/2 - sqrt(3)*I/2, -1/2 + sqrt(3)*I/2]\n"
     ]
    }
   ],
   "source": [
    "p3 = sp.Poly((x**2 + x + 1) * (x-1))\n",
    "r3 = sp.solve(p3, x)\n",
    "print(r3)"
   ]
  },
  {
   "cell_type": "code",
   "execution_count": 25,
   "id": "5aaf6b72",
   "metadata": {},
   "outputs": [
    {
     "name": "stdout",
     "output_type": "stream",
     "text": [
      "[-1]\n"
     ]
    }
   ],
   "source": [
    "p4= sp.Poly((x + 1)**2)\n",
    "r4 = sp.solve(p4, x)\n",
    "print(r4)"
   ]
  },
  {
   "cell_type": "code",
   "execution_count": 26,
   "id": "9cf301a3",
   "metadata": {},
   "outputs": [
    {
     "name": "stdout",
     "output_type": "stream",
     "text": [
      "[-1, 1]\n"
     ]
    }
   ],
   "source": [
    "p5 = sp.Poly((x + 1)*(x-1))\n",
    "r5 = sp.solve(p5, x)\n",
    "print(r5)"
   ]
  }
 ],
 "metadata": {
  "kernelspec": {
   "display_name": "Python 3",
   "language": "python",
   "name": "python3"
  },
  "language_info": {
   "codemirror_mode": {
    "name": "ipython",
    "version": 3
   },
   "file_extension": ".py",
   "mimetype": "text/x-python",
   "name": "python",
   "nbconvert_exporter": "python",
   "pygments_lexer": "ipython3",
   "version": "3.13.0"
  }
 },
 "nbformat": 4,
 "nbformat_minor": 5
}
