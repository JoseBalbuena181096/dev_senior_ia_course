{
 "cells": [
  {
   "cell_type": "code",
   "execution_count": 7,
   "id": "6109f18f",
   "metadata": {},
   "outputs": [
    {
     "name": "stdout",
     "output_type": "stream",
     "text": [
      "z1 =  (2+2j)\n",
      "El valor arg de z1 es: 0.7853981633974483\n",
      "z2 =  (-63.99999999999997-1.4210854715202004e-14j)\n",
      "El valorarg de z2 es: -3.141592653589793\n",
      "z3 =  (0.5+1.5j)\n",
      "El valor arg de z3 es: 1.2490457723982544\n",
      "z4 =  (-0.5000000000000001+0.8660254037844387j)\n",
      "El valor arg de z4 es: 2.0943951023931957\n"
     ]
    }
   ],
   "source": [
    "import cmath\n",
    "\n",
    "z1 = 2 + 2j\n",
    "print('z1 = ', z1)\n",
    "print(f'El valor arg de z1 es: {cmath.phase(z1)}')\n",
    "\n",
    "z2 = (math.sqrt(3) + 1j) ** 6\n",
    "print('z2 = ', z2)\n",
    "print(f'El valorarg de z2 es: {cmath.phase(z2)}')\n",
    "\n",
    "z3 = (1 + 3j) / 2\n",
    "print('z3 = ', z3)\n",
    "print(f'El valor arg de z3 es: {cmath.phase(z3)}')\n",
    "\n",
    "z4 = - 2 / (1 + math.sqrt(3)*1j) \n",
    "print('z4 = ', z4)\n",
    "print(f'El valor arg de z4 es: {cmath.phase(z4)}')\n"
   ]
  }
 ],
 "metadata": {
  "kernelspec": {
   "display_name": "Python 3",
   "language": "python",
   "name": "python3"
  },
  "language_info": {
   "codemirror_mode": {
    "name": "ipython",
    "version": 3
   },
   "file_extension": ".py",
   "mimetype": "text/x-python",
   "name": "python",
   "nbconvert_exporter": "python",
   "pygments_lexer": "ipython3",
   "version": "3.13.0"
  }
 },
 "nbformat": 4,
 "nbformat_minor": 5
}
