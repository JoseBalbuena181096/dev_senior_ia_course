{
 "cells": [
  {
   "cell_type": "markdown",
   "id": "f222bebf",
   "metadata": {},
   "source": [
    "### Polinomios con Python\n",
    "\n",
    "Pdefinir un polinomio en python, lo haremos mediante las funciones de sympy.symbols() para indicar con qué variable trabajamos y sympy.Poly() introduciendo el polinomio por parámetro\n"
   ]
  },
  {
   "cell_type": "code",
   "execution_count": 1,
   "id": "fc947042",
   "metadata": {},
   "outputs": [
    {
     "name": "stdout",
     "output_type": "stream",
     "text": [
      "Poly(x**2, x, domain='ZZ')\n"
     ]
    }
   ],
   "source": [
    "import sympy as sp\n",
    "\n",
    "x = sp.symbols('x')\n",
    "p = sp.Poly(x**2)\n",
    "print(p)"
   ]
  },
  {
   "cell_type": "code",
   "execution_count": 3,
   "id": "7f1e691f",
   "metadata": {},
   "outputs": [
    {
     "name": "stdout",
     "output_type": "stream",
     "text": [
      "Poly(x**3 + x + 1, x, domain='ZZ')\n"
     ]
    }
   ],
   "source": [
    "q = sp.Poly(1 + x + x**3)\n",
    "print(q)"
   ]
  },
  {
   "cell_type": "markdown",
   "id": "214a9559",
   "metadata": {},
   "source": [
    "O bien, otra forma de definir polinomios es mediante la libreria numpy introduciendo como párametro el vector de coeficientes en orden decreciente de potencias\n"
   ]
  },
  {
   "cell_type": "code",
   "execution_count": 4,
   "id": "26a11fcd",
   "metadata": {},
   "outputs": [
    {
     "name": "stdout",
     "output_type": "stream",
     "text": [
      "   2\n",
      "1 x + 2 x + 1\n"
     ]
    }
   ],
   "source": [
    "import numpy as np\n",
    "\n",
    "p = np.poly1d([1, 2, 1])\n",
    "print(p)\n"
   ]
  },
  {
   "cell_type": "code",
   "execution_count": null,
   "id": "740905a7",
   "metadata": {},
   "outputs": [],
   "source": []
  }
 ],
 "metadata": {
  "kernelspec": {
   "display_name": "Python 3",
   "language": "python",
   "name": "python3"
  },
  "language_info": {
   "codemirror_mode": {
    "name": "ipython",
    "version": 3
   },
   "file_extension": ".py",
   "mimetype": "text/x-python",
   "name": "python",
   "nbconvert_exporter": "python",
   "pygments_lexer": "ipython3",
   "version": "3.13.0"
  }
 },
 "nbformat": 4,
 "nbformat_minor": 5
}
