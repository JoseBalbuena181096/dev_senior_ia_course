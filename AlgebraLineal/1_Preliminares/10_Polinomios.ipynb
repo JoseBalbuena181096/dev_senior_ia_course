{
 "cells": [
  {
   "cell_type": "markdown",
   "id": "f222bebf",
   "metadata": {},
   "source": [
    "### Polinomios con Python\n",
    "\n",
    "Pdefinir un polinomio en python, lo haremos mediante las funciones de sympy.symbols() para indicar con qué variable trabajamos y sympy.Poly() introduciendo el polinomio por parámetro\n"
   ]
  },
  {
   "cell_type": "code",
   "execution_count": 1,
   "id": "fc947042",
   "metadata": {},
   "outputs": [
    {
     "name": "stdout",
     "output_type": "stream",
     "text": [
      "Poly(x**2, x, domain='ZZ')\n"
     ]
    }
   ],
   "source": [
    "import sympy as sp\n",
    "\n",
    "x = sp.symbols('x')\n",
    "p = sp.Poly(x**2)\n",
    "print(p)"
   ]
  },
  {
   "cell_type": "code",
   "execution_count": 2,
   "id": "7f1e691f",
   "metadata": {},
   "outputs": [
    {
     "name": "stdout",
     "output_type": "stream",
     "text": [
      "Poly(x**3 + x + 1, x, domain='ZZ')\n"
     ]
    }
   ],
   "source": [
    "q = sp.Poly(1 + x + x**3)\n",
    "print(q)"
   ]
  },
  {
   "cell_type": "markdown",
   "id": "214a9559",
   "metadata": {},
   "source": [
    "O bien, otra forma de definir polinomios es mediante la libreria numpy introduciendo como párametro el vector de coeficientes en orden decreciente de potencias\n"
   ]
  },
  {
   "cell_type": "code",
   "execution_count": 3,
   "id": "26a11fcd",
   "metadata": {},
   "outputs": [
    {
     "name": "stdout",
     "output_type": "stream",
     "text": [
      "   2\n",
      "1 x + 2 x + 1\n"
     ]
    }
   ],
   "source": [
    "import numpy as np\n",
    "\n",
    "r = np.poly1d([1, 2, 1])\n",
    "print(r)\n"
   ]
  },
  {
   "cell_type": "code",
   "execution_count": 4,
   "id": "740905a7",
   "metadata": {},
   "outputs": [
    {
     "name": "stdout",
     "output_type": "stream",
     "text": [
      "   4     3     2\n",
      "1 x + 2 x + 3 x + 4 x + 5\n"
     ]
    }
   ],
   "source": [
    "s = np.poly1d([1, 2, 3, 4, 5])\n",
    "print(s)\n"
   ]
  },
  {
   "cell_type": "markdown",
   "id": "02f875f5",
   "metadata": {},
   "source": [
    "Para comprobar si dos polinomios son iguales podemos usar el operador ==\n"
   ]
  },
  {
   "cell_type": "code",
   "execution_count": 5,
   "id": "02ac5423",
   "metadata": {},
   "outputs": [
    {
     "data": {
      "text/plain": [
       "False"
      ]
     },
     "execution_count": 5,
     "metadata": {},
     "output_type": "execute_result"
    }
   ],
   "source": [
    "p == q"
   ]
  },
  {
   "cell_type": "code",
   "execution_count": 6,
   "id": "4eb6c1eb",
   "metadata": {},
   "outputs": [
    {
     "data": {
      "text/plain": [
       "False"
      ]
     },
     "execution_count": 6,
     "metadata": {},
     "output_type": "execute_result"
    }
   ],
   "source": [
    "r == s"
   ]
  },
  {
   "cell_type": "markdown",
   "id": "a51d52ff",
   "metadata": {},
   "source": [
    "Claramente, son diferentes porque, tal y como lo hemos definido anteriormente, ni siquiera tienen el mismo grado, y tambien no es lo mismo comparar un polinomio de numpy con otro polinomio de sympy.\n",
    "\n",
    "**Observación:**\n",
    "Fijaos que no podemos comparar los polinomios creados con librerías diferentes, ya que no son del mismo tipo de objeto.\n"
   ]
  },
  {
   "cell_type": "markdown",
   "id": "95b21a94",
   "metadata": {},
   "source": [
    "Para cualcular el grado de cualquier polinomio en Python, lo haremos utilizando Polynomial.degree()\n"
   ]
  },
  {
   "cell_type": "code",
   "execution_count": 7,
   "id": "aa8377f1",
   "metadata": {},
   "outputs": [
    {
     "name": "stdout",
     "output_type": "stream",
     "text": [
      "3\n"
     ]
    }
   ],
   "source": [
    "# para calcular el grado de un polinomio en sympy\n",
    "print(q.degree())\n"
   ]
  },
  {
   "cell_type": "code",
   "execution_count": 8,
   "id": "bceb5852",
   "metadata": {},
   "outputs": [
    {
     "name": "stdout",
     "output_type": "stream",
     "text": [
      "4\n"
     ]
    }
   ],
   "source": [
    "# para calcular el grado de un polinomio en numpy\n",
    "s = np.poly1d([1, 2, 3, 4, 5])\n",
    "print(s.order)\n"
   ]
  },
  {
   "cell_type": "markdown",
   "id": "ee407fbb",
   "metadata": {},
   "source": [
    "Las operaciones suma y producto de polinomios son similares a las operaciones con polinomios en álgebra. Se llevan a cabo de la siguiente manera:\n"
   ]
  },
  {
   "cell_type": "code",
   "execution_count": 10,
   "id": "6ba2faf5",
   "metadata": {},
   "outputs": [
    {
     "data": {
      "text/latex": [
       "$\\displaystyle \\operatorname{Poly}{\\left( x^{3} + x^{2} + x + 1, x, domain=\\mathbb{Z} \\right)}$"
      ],
      "text/plain": [
       "Poly(x**3 + x**2 + x + 1, x, domain='ZZ')"
      ]
     },
     "execution_count": 10,
     "metadata": {},
     "output_type": "execute_result"
    }
   ],
   "source": [
    "# para sympy\n",
    "p + q"
   ]
  },
  {
   "cell_type": "code",
   "execution_count": 11,
   "id": "5233c4ad",
   "metadata": {},
   "outputs": [
    {
     "data": {
      "text/latex": [
       "$\\displaystyle \\operatorname{Poly}{\\left( x^{5} + x^{3} + x^{2}, x, domain=\\mathbb{Z} \\right)}$"
      ],
      "text/plain": [
       "Poly(x**5 + x**3 + x**2, x, domain='ZZ')"
      ]
     },
     "execution_count": 11,
     "metadata": {},
     "output_type": "execute_result"
    }
   ],
   "source": [
    "# para sympy\n",
    "p * q"
   ]
  },
  {
   "cell_type": "code",
   "execution_count": 12,
   "id": "54fe621a",
   "metadata": {},
   "outputs": [
    {
     "name": "stdout",
     "output_type": "stream",
     "text": [
      "   4     3     2\n",
      "1 x + 2 x + 4 x + 6 x + 6\n",
      "   6     5     4      3      2\n",
      "1 x + 4 x + 8 x + 12 x + 16 x + 14 x + 5\n"
     ]
    }
   ],
   "source": [
    "# para numpy\n",
    "r = np.poly1d([1,2,1])\n",
    "s = np.poly1d([1,2,3,4,5])\n",
    "print(r + s)\n",
    "print(r * s)"
   ]
  },
  {
   "cell_type": "markdown",
   "id": "6defe45d",
   "metadata": {},
   "source": [
    "La división de polinomios la obtenemos tal y como se muestra a continuación (solo utilizando la librería numpy):\n"
   ]
  },
  {
   "cell_type": "code",
   "execution_count": 19,
   "id": "9ffd757d",
   "metadata": {},
   "outputs": [
    {
     "name": "stdout",
     "output_type": "stream",
     "text": [
      "(poly1d([1., 0., 2.]), poly1d([3.]))\n"
     ]
    }
   ],
   "source": [
    "r = np.poly1d([1,2,1])\n",
    "s = np.poly1d([1,2,3,4,5])\n",
    "print(s / r)"
   ]
  },
  {
   "cell_type": "code",
   "execution_count": 20,
   "id": "1e79e0a1",
   "metadata": {},
   "outputs": [
    {
     "data": {
      "text/plain": [
       "np.True_"
      ]
     },
     "execution_count": 20,
     "metadata": {},
     "output_type": "execute_result"
    }
   ],
   "source": [
    "# comprobamos que el polinomio es correcto\n",
    "(r * np.poly1d([1,0,2]) + np.poly1d([3])) == s"
   ]
  },
  {
   "cell_type": "markdown",
   "id": "f637fbd8",
   "metadata": {},
   "source": [
    "Observación que primero se devuelve el cociente y a continuación el resto de la división\n"
   ]
  },
  {
   "cell_type": "markdown",
   "id": "82c050b4",
   "metadata": {},
   "source": [
    "Para evaluar polinomios, haciendo uso de la librería numpy lo hacemos del siguiente modo:\n"
   ]
  },
  {
   "cell_type": "code",
   "execution_count": 24,
   "id": "dcc119b4",
   "metadata": {},
   "outputs": [
    {
     "name": "stdout",
     "output_type": "stream",
     "text": [
      "1\n",
      "57\n"
     ]
    }
   ],
   "source": [
    "r = np.poly1d([1,2,1])\n",
    "s = np.poly1d([1,2,3,4,5])\n",
    "print(r(0))\n",
    "print(s(2))\n"
   ]
  },
  {
   "cell_type": "markdown",
   "id": "e434f7b0",
   "metadata": {},
   "source": [
    "Para encontrar las raíces de polinomios, haciendo uso de la librería numpy lo hacemos del siguiente modo utilizando Polynomial.r:\n"
   ]
  },
  {
   "cell_type": "code",
   "execution_count": 25,
   "id": "34e1b9ea",
   "metadata": {},
   "outputs": [
    {
     "name": "stdout",
     "output_type": "stream",
     "text": [
      "[-1. -1.]\n",
      "[-1.28781548+0.85789676j -1.28781548-0.85789676j  0.28781548+1.41609308j\n",
      "  0.28781548-1.41609308j]\n"
     ]
    }
   ],
   "source": [
    "r = np.poly1d([1,2,1])\n",
    "s = np.poly1d([1,2,3,4,5])\n",
    "print(r.r)\n",
    "print(s.r)"
   ]
  }
 ],
 "metadata": {
  "kernelspec": {
   "display_name": "Python 3",
   "language": "python",
   "name": "python3"
  },
  "language_info": {
   "codemirror_mode": {
    "name": "ipython",
    "version": 3
   },
   "file_extension": ".py",
   "mimetype": "text/x-python",
   "name": "python",
   "nbconvert_exporter": "python",
   "pygments_lexer": "ipython3",
   "version": "3.13.0"
  }
 },
 "nbformat": 4,
 "nbformat_minor": 5
}
