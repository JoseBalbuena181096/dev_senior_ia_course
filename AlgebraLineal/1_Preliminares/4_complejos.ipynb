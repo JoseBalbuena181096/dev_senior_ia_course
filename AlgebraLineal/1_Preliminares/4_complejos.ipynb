{
 "cells": [
  {
   "cell_type": "markdown",
   "id": "38118229",
   "metadata": {},
   "source": [
    "### Números Complejos en Python\n",
    "\n",
    "En Python, los números complejos se representan utilizando la letra 'j' en lugar de 'i'. Por ejemplo, el número complejo 3 + 4i se representa como 3 + 4j."
   ]
  },
  {
   "cell_type": "code",
   "execution_count": 7,
   "id": "21d52199",
   "metadata": {},
   "outputs": [
    {
     "name": "stdout",
     "output_type": "stream",
     "text": [
      "3.0\n",
      "4.0\n",
      "5.0\n",
      "(3-4j)\n",
      "(3+4j)\n"
     ]
    }
   ],
   "source": [
    "## Podemos definir números complejos de la siguiente manera:\n",
    "z = 3 + 4j\n",
    "\n",
    "## Podemos acceder a la parte real y la parte imaginaria de un número complejo de la siguiente manera:\n",
    "print(z.real)\n",
    "print(z.imag)\n",
    "\n",
    "## Podemos calcular el módulo de un número complejo de la siguiente manera:\n",
    "print(abs(z))\n",
    "\n",
    "\n",
    "## Podemos calcular el conjugado de un número complejo de la siguiente manera:\n",
    "print(z.conjugate())\n",
    "\n",
    "## Mostrar el número complejo \n",
    "print(z)\n"
   ]
  },
  {
   "cell_type": "code",
   "execution_count": 8,
   "id": "759b5a3e",
   "metadata": {},
   "outputs": [
    {
     "name": "stdout",
     "output_type": "stream",
     "text": [
      "(3+4j)\n"
     ]
    }
   ],
   "source": [
    "## Podemos definir números complejos de la siguiente manera:\n",
    "z2 = complex(3, 4)\n",
    "print(z2)"
   ]
  },
  {
   "cell_type": "markdown",
   "id": "82521dff",
   "metadata": {},
   "source": [
    "!Observación¡\n",
    "\n",
    "Si queremos escribir los números complejos a + i o a - i en Python, donde a puede ser cualquier número rel, lo que tenemos que hacer del siguiente modo: a + ji o a - ji, ya que sino la consola dara error. "
   ]
  },
  {
   "cell_type": "code",
   "execution_count": 9,
   "id": "5f971090",
   "metadata": {},
   "outputs": [
    {
     "name": "stdout",
     "output_type": "stream",
     "text": [
      "<class 'complex'>\n"
     ]
    }
   ],
   "source": [
    "# La función type() es útil a la hora de comprobar el tipo de dato con el que estamos trabajando:\n",
    "\n",
    "print(type(2+3j))\n"
   ]
  },
  {
   "cell_type": "markdown",
   "id": "b269a7fa",
   "metadata": {},
   "source": [
    "Para obtener el módulo y argumento (principal) de cualquier número complejo, utilizamos, respectivamente, las funciones abs() y cmath.phase():"
   ]
  },
  {
   "cell_type": "code",
   "execution_count": 12,
   "id": "43f8df20",
   "metadata": {},
   "outputs": [
    {
     "name": "stdout",
     "output_type": "stream",
     "text": [
      "5.0\n",
      "(5.0, 0.9272952180016122)\n",
      "0.9272952180016122\n"
     ]
    }
   ],
   "source": [
    "import math\n",
    "import cmath\n",
    "\n",
    "z = 3 + 4j\n",
    "# abs() nos da el módulo de un número complejo\n",
    "print(abs(z))\n",
    "\n",
    "# cmath.phase() nos da el argumento (ángulo) de un número complejo en radianes\n",
    "print(cmath.phase(z))\n",
    "\n",
    "# cmath.polar() nos da el módulo y argumento de un número complejo en radianes\n",
    "print(cmath.polar(z))\n"
   ]
  }
 ],
 "metadata": {
  "kernelspec": {
   "display_name": "Python 3",
   "language": "python",
   "name": "python3"
  },
  "language_info": {
   "codemirror_mode": {
    "name": "ipython",
    "version": 3
   },
   "file_extension": ".py",
   "mimetype": "text/x-python",
   "name": "python",
   "nbconvert_exporter": "python",
   "pygments_lexer": "ipython3",
   "version": "3.13.0"
  }
 },
 "nbformat": 4,
 "nbformat_minor": 5
}
