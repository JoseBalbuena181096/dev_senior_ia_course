{
 "cells": [
  {
   "cell_type": "code",
   "execution_count": null,
   "metadata": {},
   "outputs": [
    {
     "name": "stdout",
     "output_type": "stream",
     "text": [
      "   VIN (1-10)     County          City State  Postal Code  Model Year  \\\n",
      "0  1C4JJXP66P     Kitsap       Poulsbo    WA      98370.0        2023   \n",
      "1  1G1FX6S08K  Snohomish  Lake Stevens    WA      98258.0        2019   \n",
      "2  WBY1Z2C58F       King       Seattle    WA      98116.0        2015   \n",
      "3  5YJ3E1EBXK       King       Seattle    WA      98178.0        2019   \n",
      "4  5YJSA1V24F     Yakima         Selah    WA      98942.0        2015   \n",
      "\n",
      "        Make     Model                   Electric Vehicle Type  \\\n",
      "0       JEEP  WRANGLER  Plug-in Hybrid Electric Vehicle (PHEV)   \n",
      "1  CHEVROLET   BOLT EV          Battery Electric Vehicle (BEV)   \n",
      "2        BMW        I3          Battery Electric Vehicle (BEV)   \n",
      "3      TESLA   MODEL 3          Battery Electric Vehicle (BEV)   \n",
      "4      TESLA   MODEL S          Battery Electric Vehicle (BEV)   \n",
      "\n",
      "  Clean Alternative Fuel Vehicle (CAFV) Eligibility  Electric Range  \\\n",
      "0             Not eligible due to low battery range            21.0   \n",
      "1           Clean Alternative Fuel Vehicle Eligible           238.0   \n",
      "2           Clean Alternative Fuel Vehicle Eligible            81.0   \n",
      "3           Clean Alternative Fuel Vehicle Eligible           220.0   \n",
      "4           Clean Alternative Fuel Vehicle Eligible           208.0   \n",
      "\n",
      "   Base MSRP  Legislative District  DOL Vehicle ID  \\\n",
      "0        0.0                  23.0       258127145   \n",
      "1        0.0                  44.0         4735426   \n",
      "2        0.0                  34.0       272697666   \n",
      "3        0.0                  37.0       477309682   \n",
      "4        0.0                  15.0       258112970   \n",
      "\n",
      "              Vehicle Location                              Electric Utility  \\\n",
      "0  POINT (-122.64681 47.73689)                        PUGET SOUND ENERGY INC   \n",
      "1  POINT (-122.06402 48.01497)                        PUGET SOUND ENERGY INC   \n",
      "2  POINT (-122.41067 47.57894)  CITY OF SEATTLE - (WA)|CITY OF TACOMA - (WA)   \n",
      "3  POINT (-122.23825 47.49461)  CITY OF SEATTLE - (WA)|CITY OF TACOMA - (WA)   \n",
      "4  POINT (-120.53145 46.65405)                                    PACIFICORP   \n",
      "\n",
      "   2020 Census Tract  \n",
      "0       5.303509e+10  \n",
      "1       5.306105e+10  \n",
      "2       5.303301e+10  \n",
      "3       5.303301e+10  \n",
      "4       5.307700e+10  \n"
     ]
    }
   ],
   "source": [
    "import pandas as pd\n",
    "\n",
    "\n",
    "# Cargar el dataset\n",
    "df = pd.read_csv(\"Electric_Vehicle_Population_Data.csv\")\n",
    "print(df.head())\n"
   ]
  },
  {
   "cell_type": "markdown",
   "metadata": {},
   "source": [
    "### 2. Explorar el dataset"
   ]
  },
  {
   "cell_type": "code",
   "execution_count": 6,
   "metadata": {},
   "outputs": [
    {
     "data": {
      "text/html": [
       "<div>\n",
       "<style scoped>\n",
       "    .dataframe tbody tr th:only-of-type {\n",
       "        vertical-align: middle;\n",
       "    }\n",
       "\n",
       "    .dataframe tbody tr th {\n",
       "        vertical-align: top;\n",
       "    }\n",
       "\n",
       "    .dataframe thead th {\n",
       "        text-align: right;\n",
       "    }\n",
       "</style>\n",
       "<table border=\"1\" class=\"dataframe\">\n",
       "  <thead>\n",
       "    <tr style=\"text-align: right;\">\n",
       "      <th></th>\n",
       "      <th>Postal Code</th>\n",
       "      <th>Model Year</th>\n",
       "      <th>Electric Range</th>\n",
       "      <th>Base MSRP</th>\n",
       "      <th>Legislative District</th>\n",
       "      <th>DOL Vehicle ID</th>\n",
       "      <th>2020 Census Tract</th>\n",
       "    </tr>\n",
       "  </thead>\n",
       "  <tbody>\n",
       "    <tr>\n",
       "      <th>count</th>\n",
       "      <td>223992.000000</td>\n",
       "      <td>223995.000000</td>\n",
       "      <td>223977.000000</td>\n",
       "      <td>223977.000000</td>\n",
       "      <td>223521.000000</td>\n",
       "      <td>2.239950e+05</td>\n",
       "      <td>2.239920e+05</td>\n",
       "    </tr>\n",
       "    <tr>\n",
       "      <th>mean</th>\n",
       "      <td>98176.491165</td>\n",
       "      <td>2021.264408</td>\n",
       "      <td>47.736187</td>\n",
       "      <td>829.894386</td>\n",
       "      <td>28.876361</td>\n",
       "      <td>2.329328e+08</td>\n",
       "      <td>5.297997e+10</td>\n",
       "    </tr>\n",
       "    <tr>\n",
       "      <th>std</th>\n",
       "      <td>2544.240509</td>\n",
       "      <td>2.989676</td>\n",
       "      <td>84.987140</td>\n",
       "      <td>7372.509049</td>\n",
       "      <td>14.911023</td>\n",
       "      <td>6.884329e+07</td>\n",
       "      <td>1.531491e+09</td>\n",
       "    </tr>\n",
       "    <tr>\n",
       "      <th>min</th>\n",
       "      <td>1731.000000</td>\n",
       "      <td>1999.000000</td>\n",
       "      <td>0.000000</td>\n",
       "      <td>0.000000</td>\n",
       "      <td>1.000000</td>\n",
       "      <td>4.385000e+03</td>\n",
       "      <td>1.001020e+09</td>\n",
       "    </tr>\n",
       "    <tr>\n",
       "      <th>25%</th>\n",
       "      <td>98052.000000</td>\n",
       "      <td>2020.000000</td>\n",
       "      <td>0.000000</td>\n",
       "      <td>0.000000</td>\n",
       "      <td>17.000000</td>\n",
       "      <td>2.008002e+08</td>\n",
       "      <td>5.303301e+10</td>\n",
       "    </tr>\n",
       "    <tr>\n",
       "      <th>50%</th>\n",
       "      <td>98126.000000</td>\n",
       "      <td>2022.000000</td>\n",
       "      <td>0.000000</td>\n",
       "      <td>0.000000</td>\n",
       "      <td>32.000000</td>\n",
       "      <td>2.482992e+08</td>\n",
       "      <td>5.303303e+10</td>\n",
       "    </tr>\n",
       "    <tr>\n",
       "      <th>75%</th>\n",
       "      <td>98374.000000</td>\n",
       "      <td>2023.000000</td>\n",
       "      <td>39.000000</td>\n",
       "      <td>0.000000</td>\n",
       "      <td>42.000000</td>\n",
       "      <td>2.673973e+08</td>\n",
       "      <td>5.305307e+10</td>\n",
       "    </tr>\n",
       "    <tr>\n",
       "      <th>max</th>\n",
       "      <td>99577.000000</td>\n",
       "      <td>2025.000000</td>\n",
       "      <td>337.000000</td>\n",
       "      <td>845000.000000</td>\n",
       "      <td>49.000000</td>\n",
       "      <td>4.792548e+08</td>\n",
       "      <td>5.602100e+10</td>\n",
       "    </tr>\n",
       "  </tbody>\n",
       "</table>\n",
       "</div>"
      ],
      "text/plain": [
       "         Postal Code     Model Year  Electric Range      Base MSRP  \\\n",
       "count  223992.000000  223995.000000   223977.000000  223977.000000   \n",
       "mean    98176.491165    2021.264408       47.736187     829.894386   \n",
       "std      2544.240509       2.989676       84.987140    7372.509049   \n",
       "min      1731.000000    1999.000000        0.000000       0.000000   \n",
       "25%     98052.000000    2020.000000        0.000000       0.000000   \n",
       "50%     98126.000000    2022.000000        0.000000       0.000000   \n",
       "75%     98374.000000    2023.000000       39.000000       0.000000   \n",
       "max     99577.000000    2025.000000      337.000000  845000.000000   \n",
       "\n",
       "       Legislative District  DOL Vehicle ID  2020 Census Tract  \n",
       "count         223521.000000    2.239950e+05       2.239920e+05  \n",
       "mean              28.876361    2.329328e+08       5.297997e+10  \n",
       "std               14.911023    6.884329e+07       1.531491e+09  \n",
       "min                1.000000    4.385000e+03       1.001020e+09  \n",
       "25%               17.000000    2.008002e+08       5.303301e+10  \n",
       "50%               32.000000    2.482992e+08       5.303303e+10  \n",
       "75%               42.000000    2.673973e+08       5.305307e+10  \n",
       "max               49.000000    4.792548e+08       5.602100e+10  "
      ]
     },
     "execution_count": 6,
     "metadata": {},
     "output_type": "execute_result"
    }
   ],
   "source": [
    "# describir el dataset\n",
    "df.describe()"
   ]
  },
  {
   "cell_type": "code",
   "execution_count": 7,
   "metadata": {},
   "outputs": [
    {
     "name": "stdout",
     "output_type": "stream",
     "text": [
      "VIN (1-10)\n",
      "County\n",
      "City\n",
      "State\n",
      "Postal Code\n",
      "Model Year\n",
      "Make\n",
      "Model\n",
      "Electric Vehicle Type\n",
      "Clean Alternative Fuel Vehicle (CAFV) Eligibility\n",
      "Electric Range\n",
      "Base MSRP\n",
      "Legislative District\n",
      "DOL Vehicle ID\n",
      "Vehicle Location\n",
      "Electric Utility\n",
      "2020 Census Tract\n"
     ]
    }
   ],
   "source": [
    "# ver las columnas del dataset\n",
    "for column in df.columns:\n",
    "    print(column)"
   ]
  },
  {
   "cell_type": "markdown",
   "metadata": {},
   "source": [
    "### Limpieza del dataset"
   ]
  },
  {
   "cell_type": "code",
   "execution_count": null,
   "metadata": {},
   "outputs": [],
   "source": [
    "df.columns = df.columns.str.strip().str.lower().str.replace(\" \", \"_\")"
   ]
  },
  {
   "cell_type": "code",
   "execution_count": 9,
   "metadata": {},
   "outputs": [
    {
     "name": "stdout",
     "output_type": "stream",
     "text": [
      "<class 'pandas.core.frame.DataFrame'>\n",
      "RangeIndex: 223995 entries, 0 to 223994\n",
      "Data columns (total 17 columns):\n",
      " #   Column                                             Non-Null Count   Dtype  \n",
      "---  ------                                             --------------   -----  \n",
      " 0   vin_(1-10)                                         223995 non-null  object \n",
      " 1   county                                             223992 non-null  object \n",
      " 2   city                                               223992 non-null  object \n",
      " 3   state                                              223995 non-null  object \n",
      " 4   postal_code                                        223992 non-null  float64\n",
      " 5   model_year                                         223995 non-null  int64  \n",
      " 6   make                                               223995 non-null  object \n",
      " 7   model                                              223995 non-null  object \n",
      " 8   electric_vehicle_type                              223995 non-null  object \n",
      " 9   clean_alternative_fuel_vehicle_(cafv)_eligibility  223995 non-null  object \n",
      " 10  electric_range                                     223977 non-null  float64\n",
      " 11  base_msrp                                          223977 non-null  float64\n",
      " 12  legislative_district                               223521 non-null  float64\n",
      " 13  dol_vehicle_id                                     223995 non-null  int64  \n",
      " 14  vehicle_location                                   223985 non-null  object \n",
      " 15  electric_utility                                   223992 non-null  object \n",
      " 16  2020_census_tract                                  223992 non-null  float64\n",
      "dtypes: float64(5), int64(2), object(10)\n",
      "memory usage: 29.1+ MB\n"
     ]
    }
   ],
   "source": [
    "df.info()"
   ]
  },
  {
   "cell_type": "code",
   "execution_count": 11,
   "metadata": {},
   "outputs": [
    {
     "name": "stdout",
     "output_type": "stream",
     "text": [
      "<class 'pandas.core.frame.DataFrame'>\n",
      "RangeIndex: 4031910 entries, 0 to 4031909\n",
      "Data columns (total 17 columns):\n",
      " #   Column                                             Dtype  \n",
      "---  ------                                             -----  \n",
      " 0   vin_(1-10)                                         object \n",
      " 1   county                                             object \n",
      " 2   city                                               object \n",
      " 3   state                                              object \n",
      " 4   postal_code                                        float64\n",
      " 5   model_year                                         int64  \n",
      " 6   make                                               object \n",
      " 7   model                                              object \n",
      " 8   electric_vehicle_type                              object \n",
      " 9   clean_alternative_fuel_vehicle_(cafv)_eligibility  object \n",
      " 10  electric_range                                     float64\n",
      " 11  base_msrp                                          float64\n",
      " 12  legislative_district                               float64\n",
      " 13  dol_vehicle_id                                     int64  \n",
      " 14  vehicle_location                                   object \n",
      " 15  electric_utility                                   object \n",
      " 16  2020_census_tract                                  float64\n",
      "dtypes: float64(5), int64(2), object(10)\n",
      "memory usage: 522.9+ MB\n"
     ]
    }
   ],
   "source": [
    "# duplicar el dataset para  que tengaga el doble de informacion\n",
    "df2 = df.copy()\n",
    "df2 = pd.concat([df, df, df, df, df, df, df, df, df, df, df, df, df, df, df, df, df, df], ignore_index=True)\n",
    "df2.info()"
   ]
  },
  {
   "cell_type": "code",
   "execution_count": 13,
   "metadata": {},
   "outputs": [
    {
     "name": "stdout",
     "output_type": "stream",
     "text": [
      "0\n"
     ]
    }
   ],
   "source": [
    "suma = df.duplicated().sum()\n",
    "print(suma)\n"
   ]
  },
  {
   "cell_type": "code",
   "execution_count": 14,
   "metadata": {},
   "outputs": [
    {
     "name": "stdout",
     "output_type": "stream",
     "text": [
      "<class 'pandas.core.frame.DataFrame'>\n",
      "RangeIndex: 223995 entries, 0 to 223994\n",
      "Data columns (total 17 columns):\n",
      " #   Column                                             Non-Null Count   Dtype  \n",
      "---  ------                                             --------------   -----  \n",
      " 0   vin_(1-10)                                         223995 non-null  object \n",
      " 1   county                                             223992 non-null  object \n",
      " 2   city                                               223992 non-null  object \n",
      " 3   state                                              223995 non-null  object \n",
      " 4   postal_code                                        223992 non-null  float64\n",
      " 5   model_year                                         223995 non-null  int64  \n",
      " 6   make                                               223995 non-null  object \n",
      " 7   model                                              223995 non-null  object \n",
      " 8   electric_vehicle_type                              223995 non-null  object \n",
      " 9   clean_alternative_fuel_vehicle_(cafv)_eligibility  223995 non-null  object \n",
      " 10  electric_range                                     223977 non-null  float64\n",
      " 11  base_msrp                                          223977 non-null  float64\n",
      " 12  legislative_district                               223521 non-null  float64\n",
      " 13  dol_vehicle_id                                     223995 non-null  int64  \n",
      " 14  vehicle_location                                   223985 non-null  object \n",
      " 15  electric_utility                                   223992 non-null  object \n",
      " 16  2020_census_tract                                  223992 non-null  float64\n",
      "dtypes: float64(5), int64(2), object(10)\n",
      "memory usage: 29.1+ MB\n"
     ]
    }
   ],
   "source": [
    "# Eliminar duplicados\n",
    "df.drop_duplicates(inplace=True)\n",
    "df.info()\n"
   ]
  },
  {
   "cell_type": "code",
   "execution_count": null,
   "metadata": {},
   "outputs": [],
   "source": [
    "# guar"
   ]
  }
 ],
 "metadata": {
  "kernelspec": {
   "display_name": "Python 3",
   "language": "python",
   "name": "python3"
  },
  "language_info": {
   "codemirror_mode": {
    "name": "ipython",
    "version": 3
   },
   "file_extension": ".py",
   "mimetype": "text/x-python",
   "name": "python",
   "nbconvert_exporter": "python",
   "pygments_lexer": "ipython3",
   "version": "3.13.0"
  }
 },
 "nbformat": 4,
 "nbformat_minor": 2
}
