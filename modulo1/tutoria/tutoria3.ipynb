{
 "cells": [
  {
   "cell_type": "markdown",
   "id": "75009819",
   "metadata": {},
   "source": [
    "# Coleecciones\n",
    "\n",
    "## Listas(List)\n",
    "Las listas son colecciones ordenadas y mutabls que pueden contener elementos de diferentes tipos.\n",
    "\n",
    "### Características:\n",
    "-   Permite duplicados.\n",
    "-   Son indexadas (Pueden acceder a elementos por su posición).\n",
    "-   Se puede modificar (Agregar, Eliminar o cambiar un elemento).\n",
    "-   Son datos ordenados."
   ]
  },
  {
   "cell_type": "code",
   "execution_count": null,
   "id": "39d48ee3",
   "metadata": {},
   "outputs": [
    {
     "name": "stdout",
     "output_type": "stream",
     "text": [
      "['banana', 'maçã', 'laranja', 'abacaxi', 'kiwi']\n",
      "banana\n"
     ]
    }
   ],
   "source": [
    "frutas  = ['banana', 'uva', 'maçã', 'laranja', 'abacaxi']\n",
    "frutas.append('kiwi')\n",
    "frutas.remove('uva')\n",
    "print(frutas)\n",
    "print(frutas[0])\n",
    "# index i es el indice de la lista\n",
    "# En la lista frutas, los indices son:\n",
    "# 0 -> banana\n",
    "# 1 -> maçã\n",
    "# 2 -> laranja\n",
    "# 3 -> abacaxi\n",
    "# 4 -> kiwi           \n",
    "    "
   ]
  },
  {
   "cell_type": "markdown",
   "id": "362e93e0",
   "metadata": {},
   "source": [
    "### Tuplas (tuple)\n",
    "Las tuplas son similares a listas, pero **inmutables**, es decir, no se pueden modificar después de su creación.\n",
    "\n",
    "### Caracteristicas.\n",
    "-   Permiten duplicados.\n",
    "-   Son indexadas (Pueden acceder a elementos por su posición).\n",
    "-   No se pueden modificar después de su creación"
   ]
  },
  {
   "cell_type": "code",
   "execution_count": 3,
   "id": "ecdbd393",
   "metadata": {},
   "outputs": [
    {
     "name": "stdout",
     "output_type": "stream",
     "text": [
      "(10, 30)\n"
     ]
    }
   ],
   "source": [
    "coordenadas = (10,30)\n",
    "print(coordenadas)\n",
    "# coordenadas es una tupla, no se puede modificar\n",
    "# coordenadas[0] = 20 # esto no se puede hacer"
   ]
  },
  {
   "cell_type": "markdown",
   "id": "1e9c2017",
   "metadata": {},
   "source": [
    "## Conjuntos (set)\n",
    "Los **set** son colecciones **no ordenas** de elementos únicos.\n",
    "\n",
    "### Caracteristicas:\n",
    "-   No permiten duplicados.\n",
    "-   No tiene índices (No se puede acceder a un elemento por su posición).\n",
    "-   Se puede modificar (agregar o eliminar elementos)."
   ]
  },
  {
   "cell_type": "code",
   "execution_count": 4,
   "id": "fc0daf9d",
   "metadata": {},
   "outputs": [
    {
     "name": "stdout",
     "output_type": "stream",
     "text": [
      "{1, 2, 3, 4, 5}\n",
      "{1, 2, 4, 5}\n"
     ]
    }
   ],
   "source": [
    "numero = {1, 2, 3, 4, 5}\n",
    "print(numero)\n",
    "numero.add(5)\n",
    "numero.remove(3)\n",
    "print(numero)"
   ]
  },
  {
   "cell_type": "code",
   "execution_count": 5,
   "id": "07bf5c5c",
   "metadata": {},
   "outputs": [
    {
     "name": "stdout",
     "output_type": "stream",
     "text": [
      "{1, 2, 4, 5, 6, 7, 8}\n"
     ]
    }
   ],
   "source": [
    "# Añadir elementos a un conjunto\n",
    "numero.update([6, 7, 8])\n",
    "print(numero)"
   ]
  },
  {
   "cell_type": "markdown",
   "id": "b66f119c",
   "metadata": {},
   "source": [
    "### Eliminar datos duplicados de un grupo de datos"
   ]
  },
  {
   "cell_type": "code",
   "execution_count": 6,
   "id": "74d9c61d",
   "metadata": {},
   "outputs": [
    {
     "name": "stdout",
     "output_type": "stream",
     "text": [
      "{1, 2, 3, 4, 5, 7, 8, 9}\n"
     ]
    }
   ],
   "source": [
    "numeros = [1,1,2,3,5,3,2,3,4,7,5,8,9]\n",
    "numeros = set(numeros) # convierte la lista en un conjunto\n",
    "print(numeros)"
   ]
  },
  {
   "cell_type": "code",
   "execution_count": 8,
   "id": "03bad546",
   "metadata": {},
   "outputs": [
    {
     "name": "stdout",
     "output_type": "stream",
     "text": [
      "{1, 2, 3, 4, 5, 6}\n",
      "{3, 4}\n",
      "{1, 2}\n",
      "{1, 2, 5, 6}\n"
     ]
    }
   ],
   "source": [
    "# operaciones con conjuntos\n",
    "conjunto1 = {1, 2, 3, 4}    \n",
    "conjunto2 = {3, 4, 5, 6}\n",
    "conjunto3 = conjunto1.union(conjunto2) # unión\n",
    "print(conjunto3)\n",
    "conjunto4 = conjunto1.intersection(conjunto2) # intersección\n",
    "print(conjunto4)\n",
    "conjunto5 = conjunto1.difference(conjunto2) # diferencia    \n",
    "print(conjunto5)\n",
    "# diferencia simétrica\n",
    "print(conjunto1.symmetric_difference(conjunto2)) # diferencia simétrica"
   ]
  },
  {
   "cell_type": "markdown",
   "id": "ee9c8576",
   "metadata": {},
   "source": [
    "### Diccionarios(dict)\n",
    "Los dict almacenan pares **indice-valor**, permite acceder a los valores atravez de un índice único.\n",
    "\n",
    "Caracteristicas:\n",
    "\n",
    "-   No permite el uso de indices duplicados.\n",
    "-   Los valores se pueden modificar.\n",
    "-   Son rápidos de búsqueda de valor."
   ]
  },
  {
   "cell_type": "code",
   "execution_count": 10,
   "id": "5b6eb414",
   "metadata": {},
   "outputs": [
    {
     "name": "stdout",
     "output_type": "stream",
     "text": [
      "{'nombre': 'Juan', 'edad': 30, 'ciudad': 'Madrid'}\n",
      "Juan\n",
      "30\n"
     ]
    },
    {
     "ename": "KeyError",
     "evalue": "'profesion'",
     "output_type": "error",
     "traceback": [
      "\u001b[1;31m---------------------------------------------------------------------------\u001b[0m",
      "\u001b[1;31mKeyError\u001b[0m                                  Traceback (most recent call last)",
      "Cell \u001b[1;32mIn[10], line 10\u001b[0m\n\u001b[0;32m      8\u001b[0m \u001b[38;5;28mprint\u001b[39m(persona[\u001b[38;5;124m'\u001b[39m\u001b[38;5;124mnombre\u001b[39m\u001b[38;5;124m'\u001b[39m])\n\u001b[0;32m      9\u001b[0m \u001b[38;5;28mprint\u001b[39m(persona[\u001b[38;5;124m'\u001b[39m\u001b[38;5;124medad\u001b[39m\u001b[38;5;124m'\u001b[39m])\n\u001b[1;32m---> 10\u001b[0m \u001b[38;5;28mprint\u001b[39m(\u001b[43mpersona\u001b[49m\u001b[43m[\u001b[49m\u001b[38;5;124;43m'\u001b[39;49m\u001b[38;5;124;43mprofesion\u001b[39;49m\u001b[38;5;124;43m'\u001b[39;49m\u001b[43m]\u001b[49m) \u001b[38;5;66;03m# esto da error porque no existe la clave 'profesion'\u001b[39;00m\n",
      "\u001b[1;31mKeyError\u001b[0m: 'profesion'"
     ]
    }
   ],
   "source": [
    "# diccionario de persona\n",
    "persona = {\n",
    "    'nombre': 'Juan',\n",
    "    'edad': 30,\n",
    "    'ciudad': 'Madrid'\n",
    "}\n",
    "print(persona)\n",
    "print(persona['nombre'])\n",
    "print(persona['edad'])\n",
    "print(persona['profesion']) # esto da error porque no existe la clave 'profesion'"
   ]
  }
 ],
 "metadata": {
  "kernelspec": {
   "display_name": "Python 3",
   "language": "python",
   "name": "python3"
  },
  "language_info": {
   "codemirror_mode": {
    "name": "ipython",
    "version": 3
   },
   "file_extension": ".py",
   "mimetype": "text/x-python",
   "name": "python",
   "nbconvert_exporter": "python",
   "pygments_lexer": "ipython3",
   "version": "3.13.0"
  }
 },
 "nbformat": 4,
 "nbformat_minor": 5
}
