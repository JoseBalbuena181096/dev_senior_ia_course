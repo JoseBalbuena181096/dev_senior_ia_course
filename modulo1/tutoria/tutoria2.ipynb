{
 "cells": [
  {
   "cell_type": "markdown",
   "metadata": {},
   "source": [
    "# ¿Qué es un algoritmo?\n",
    "Un algoritmo es un conjunto de intrucciones o reglas bien definidas, ordenadas y finitas que permiten realizar una actividad mediante pasos sucesivos. Los algoritmos son fundamentales en computación, matematicas y en  muchos aspectos de la vida cotidiana.\n",
    "\n",
    "Caracteristicas principales de un algoritmo:\n",
    "\n",
    "-   Debe ser preciso e indicar el orden de realización.\n",
    "-   Debe estar definido sin ambiguedades.\n",
    "-   Debe ser finito, con un inicio y un final claros.\n",
    "-   Debe producir un resultado.\n",
    "\n",
    "Los algoritmos se pueden encontrar en muchos contextos:\n",
    "-   En programación, para resolver problemas específicos.\n",
    "-   En matematicas, como métodos para resolver ecuaciones.\n",
    "-   En recetas de conina, que son algoritmos para preparar platillos.\n",
    "-   En manuales de instruccione para armar objetos.\n",
    "\n",
    "En computación, los algoritmos son la base del funcionamiento de cualquier programa y son cruciales para resolver problemas de forma eficiente.\n",
    "\n",
    "\n",
    "\n",
    "La diferencia principal entre un algoritmo y un programa es un concepto teórico o un conjunto de instrucciones para resolver un problema, mientras que un programa es la implementación práctica de ese algoritmo en un lenguaje de programación específico que puede ser ejecutado por una computadora.\n",
    "\n",
    "Para explicarlo mejor:\n",
    "Algoritmo:\n",
    "\n",
    "-   Es un conjunto de pasos lógicos para resolver un problema.\n",
    "-   Es independiente del lenguaje de programación.\n",
    "-   Es un concepto abastracto y teórico.\n",
    "-   Se puede expresar en seudocódigo, diagramas de flujo o lenguaje natural.\n",
    "-   No es ejecutable directamente por una computadora.\n",
    "\n",
    "Programa:\n",
    "-   Es la implementación de un algoritmo, en un lenguaje de programación concreto.\n",
    "-   Está escrito en un lenguaje específico como Python, Java o C++.\n",
    "-   Es un producto tangible y ejecutable.\n",
    "-   Contiene la sintaxis y estructuras propias del lenguaje.\n",
    "-   Puede ser directamente ejecutado por una computadora.\n",
    "\n",
    "Un programa es el algorimo traducido a un lenguaje de programación que la computadora pueda entender y ejecutar.\n",
    "\n",
    "\n",
    "\n",
    "\n"
   ]
  },
  {
   "cell_type": "code",
   "execution_count": 3,
   "metadata": {},
   "outputs": [
    {
     "name": "stdout",
     "output_type": "stream",
     "text": [
      "True\n",
      "False\n",
      "False\n"
     ]
    }
   ],
   "source": [
    "# ¿Que es un número par?\n",
    "#  Número que al ser dividido entre dos y el residuo es 0\n",
    "isPar = lambda number : number % 2 == 0\n",
    "\n",
    "#  Número que al ser dividido entre dos y el residuo es diferente de 0\n",
    "isImpar = lambda number : number % 2 != 0\n",
    "\n",
    "print(isPar(2))\n",
    "print(isImpar(2))\n",
    "\n",
    "# Palabra palindromo\n",
    "\n",
    "isPalindromo = lambda word : word[::-1] == word\n",
    "print(isPalindromo('osoito'))"
   ]
  },
  {
   "cell_type": "code",
   "execution_count": 7,
   "metadata": {},
   "outputs": [
    {
     "name": "stdout",
     "output_type": "stream",
     "text": [
      "No puede manejar no tienes licencia\n"
     ]
    }
   ],
   "source": [
    "# Puede manejar\n",
    "\n",
    "tieneLicencia = False\n",
    "edad = 18\n",
    "\n",
    "if edad >= 18 and tieneLicencia:\n",
    "    print('Puede manejar')\n",
    "elif edad >= 18 and not tieneLicencia:\n",
    "    print( 'No puede manejar no tienes licencia')\n",
    "else:\n",
    "    print('Eres menor de edad no puedes') "
   ]
  },
  {
   "cell_type": "code",
   "execution_count": 10,
   "metadata": {},
   "outputs": [
    {
     "name": "stdout",
     "output_type": "stream",
     "text": [
      "Eres mayor de edad \n"
     ]
    }
   ],
   "source": [
    "# Operador ternario\n",
    "edad = 18\n",
    "mensaje = \"Eres mayor de edad \" if edad >= 18 else \"Eres menor de edad\"\n",
    "print(mensaje)"
   ]
  },
  {
   "cell_type": "code",
   "execution_count": 11,
   "metadata": {},
   "outputs": [
    {
     "name": "stdout",
     "output_type": "stream",
     "text": [
      "1, 2, 3, 4, 5, 6, 7, 8, 9, 10, "
     ]
    }
   ],
   "source": [
    "# conteo del 1 al 10\n",
    "for i in range(1, 11):\n",
    "    print(i, end=', ')\n",
    "\n",
    "# El for itera sobre una secuencia"
   ]
  },
  {
   "cell_type": "code",
   "execution_count": 13,
   "metadata": {},
   "outputs": [
    {
     "name": "stdout",
     "output_type": "stream",
     "text": [
      "1, 2, 3, 4, 5, 6, 7, 8, 9, 10, "
     ]
    }
   ],
   "source": [
    "# conteo del 1 al 10 con while\n",
    "\n",
    "i = 1\n",
    "\n",
    "while i <= 10:\n",
    "    print(i, end=', ')\n",
    "    i += 1 \n",
    "\n",
    "# El while itera mientras sea verdad "
   ]
  },
  {
   "cell_type": "code",
   "execution_count": 15,
   "metadata": {},
   "outputs": [
    {
     "name": "stdout",
     "output_type": "stream",
     "text": [
      "['Jose', 'Jesus', 'Monse']\n"
     ]
    }
   ],
   "source": [
    "# Definir una lista de cadenas de texto e imprimir cada noombre con mayúscula\n",
    "\n",
    "nombres = ['jose', 'jesus', 'monse']\n",
    "nombres = list(map( \n",
    "                    lambda nombre: nombre.capitalize(), \n",
    "                    nombres\n",
    "                ))\n",
    "print(nombres)"
   ]
  },
  {
   "cell_type": "code",
   "execution_count": 21,
   "metadata": {},
   "outputs": [
    {
     "name": "stdout",
     "output_type": "stream",
     "text": [
      "lista 1: [1,2,3,]\n",
      "lista 2: [4,5,6,]\n",
      "lista 3: [7,8,9,]\n"
     ]
    }
   ],
   "source": [
    "# mostrar lista anidada\n",
    "\n",
    "listas_anidada = [[1, 2, 3], [4, 5, 6], [7, 8, 9]]\n",
    "\n",
    "for i,lista  in enumerate(listas_anidada):\n",
    "    print(f'lista {i+1}: [', end='')\n",
    "    for item in lista:\n",
    "        print(item, end=',')\n",
    "    print(']')"
   ]
  }
 ],
 "metadata": {
  "kernelspec": {
   "display_name": "Python 3",
   "language": "python",
   "name": "python3"
  },
  "language_info": {
   "codemirror_mode": {
    "name": "ipython",
    "version": 3
   },
   "file_extension": ".py",
   "mimetype": "text/x-python",
   "name": "python",
   "nbconvert_exporter": "python",
   "pygments_lexer": "ipython3",
   "version": "3.13.0"
  }
 },
 "nbformat": 4,
 "nbformat_minor": 2
}
