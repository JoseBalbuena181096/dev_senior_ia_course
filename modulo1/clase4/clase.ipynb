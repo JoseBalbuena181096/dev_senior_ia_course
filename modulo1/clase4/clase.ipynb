{
 "cells": [
  {
   "cell_type": "code",
   "execution_count": null,
   "id": "af0161a3",
   "metadata": {},
   "outputs": [
    {
     "name": "stdout",
     "output_type": "stream",
     "text": [
      "apple\n"
     ]
    }
   ],
   "source": [
    "# Mini repaso\n",
    "# Identificamos que es una lista por los corchetes y son mutables(pueden cambiar)\n",
    "mylist = ['apple', 'banana', 'apple']\n",
    "\n",
    "# accedemos algun elemento de la lista por medio del index\n",
    "print(mylist[0])"
   ]
  },
  {
   "cell_type": "code",
   "execution_count": 3,
   "id": "2f155c12",
   "metadata": {},
   "outputs": [
    {
     "name": "stdout",
     "output_type": "stream",
     "text": [
      "apple\n",
      "2\n"
     ]
    },
    {
     "ename": "TypeError",
     "evalue": "'tuple' object does not support item assignment",
     "output_type": "error",
     "traceback": [
      "\u001b[1;31m---------------------------------------------------------------------------\u001b[0m",
      "\u001b[1;31mTypeError\u001b[0m                                 Traceback (most recent call last)",
      "Cell \u001b[1;32mIn[3], line 10\u001b[0m\n\u001b[0;32m      7\u001b[0m \u001b[38;5;28mprint\u001b[39m(mytuple\u001b[38;5;241m.\u001b[39mcount(\u001b[38;5;124m'\u001b[39m\u001b[38;5;124mapple\u001b[39m\u001b[38;5;124m'\u001b[39m))\n\u001b[0;32m      9\u001b[0m \u001b[38;5;66;03m# pero no se pueden modificar por ser inmutables\u001b[39;00m\n\u001b[1;32m---> 10\u001b[0m \u001b[43mmytuple\u001b[49m\u001b[43m[\u001b[49m\u001b[38;5;241;43m0\u001b[39;49m\u001b[43m]\u001b[49m \u001b[38;5;241m=\u001b[39m \u001b[38;5;124m'\u001b[39m\u001b[38;5;124mstrawberry\u001b[39m\u001b[38;5;124m'\u001b[39m\n",
      "\u001b[1;31mTypeError\u001b[0m: 'tuple' object does not support item assignment"
     ]
    }
   ],
   "source": [
    "# Las tuplas se identifican por parentesis y son inmutables (no pueden cambiar)\n",
    "mytuple = ('apple', 'banana', 'apple')\n",
    "# accedemos algun elemento de la lista por medio del index\n",
    "print(mylist[0])\n",
    "\n",
    "#total de ekentos de la tupla\n",
    "print(mytuple.count('apple'))\n",
    "\n",
    "# pero no se pueden modificar por ser inmutables\n",
    "mytuple[0] = 'strawberry'"
   ]
  },
  {
   "cell_type": "code",
   "execution_count": 7,
   "id": "6303847c",
   "metadata": {},
   "outputs": [
    {
     "name": "stdout",
     "output_type": "stream",
     "text": [
      "Jonth Smith\n",
      "Jose Palma\n",
      "True\n"
     ]
    },
    {
     "data": {
      "text/plain": [
       "'Jose Palma'"
      ]
     },
     "execution_count": 7,
     "metadata": {},
     "output_type": "execute_result"
    }
   ],
   "source": [
    "# Los diccionarios son colecciones asociativas en pares es decir tenemos una llave por cada valor\n",
    "# las llaves de cada valor son únicas e irrepetibles\n",
    "\n",
    "employed = {\n",
    "    'name': 'Jonth Smith',\n",
    "    'age': 31,\n",
    "    'address': 'California' \n",
    "}\n",
    "\n",
    "# accedemos al valor por la clave\n",
    "print(employed['name'])\n",
    "\n",
    "# estos valores se pueden modificar \n",
    "employed['name'] = 'Jose Palma'\n",
    "print(employed['name'])\n",
    "\n",
    "# se pueden agregar nuevas llaves\n",
    "employed['active'] = True\n",
    "print(employed['active'])\n",
    "\n",
    "#obteniendo por el metodo get\n",
    "employed.get('name')"
   ]
  },
  {
   "cell_type": "code",
   "execution_count": 9,
   "id": "35984ab8",
   "metadata": {},
   "outputs": [
    {
     "name": "stdout",
     "output_type": "stream",
     "text": [
      "{'a': 3, 'b': 1, 'c': 2, 'e': 4}\n"
     ]
    }
   ],
   "source": [
    "# reto te dan esta entrada 'aaabcceeee' debe devolver 'a:3, b:1, c:2, e:4 '\n",
    "def fun(word):\n",
    "    dict_keys = { letter:0 for letter in word }\n",
    "    for letter in word:\n",
    "        dict_keys[letter] += 1\n",
    "    print(dict_keys)\n",
    "\n",
    "fun('aaabcceeee')"
   ]
  },
  {
   "cell_type": "code",
   "execution_count": 11,
   "id": "21c12e3f",
   "metadata": {},
   "outputs": [
    {
     "name": "stdout",
     "output_type": "stream",
     "text": [
      "name - Jonth Smith\n",
      "age - 31\n",
      "address - California\n"
     ]
    }
   ],
   "source": [
    "# acceder a los elementos de un diccionario \n",
    "employed = {\n",
    "    'name': 'Jonth Smith',\n",
    "    'age': 31,\n",
    "    'address': 'California' \n",
    "}\n",
    "\n",
    "for key,value in employed.items():\n",
    "    print(f'{key} - {value}')\n"
   ]
  },
  {
   "cell_type": "markdown",
   "id": "106441f8",
   "metadata": {},
   "source": [
    "x = {'type' : 'fruit', 'name' : 'banana'}\n",
    "What is a correct syntax for changing the type from fruit to berry?"
   ]
  },
  {
   "cell_type": "code",
   "execution_count": 13,
   "id": "ec26a076",
   "metadata": {},
   "outputs": [
    {
     "data": {
      "text/plain": [
       "{'type': 'fruit', 'name': 'banana'}"
      ]
     },
     "execution_count": 13,
     "metadata": {},
     "output_type": "execute_result"
    }
   ],
   "source": [
    "x = {'type' : 'fruit', 'name' : 'banana'}\n",
    "x['type'] = 'fruit'\n",
    "x"
   ]
  },
  {
   "cell_type": "markdown",
   "id": "82e010e5",
   "metadata": {},
   "source": [
    "Exercise\n",
    "?\n",
    "Which one of these dictionary methods can be used to add items to a dictionary?\n",
    "\n",
    "\n",
    "add()\n",
    "insert() \n",
    "update() <-"
   ]
  },
  {
   "cell_type": "code",
   "execution_count": 21,
   "id": "196dc269",
   "metadata": {},
   "outputs": [],
   "source": [
    "x.update({'color':'red'})"
   ]
  },
  {
   "cell_type": "markdown",
   "id": "90db81fd",
   "metadata": {},
   "source": [
    "Exercise\n",
    "?\n",
    "What is a dictionary method for removing an item from a dictionary?\n",
    "\n",
    "\n",
    "delete() <-\n",
    "remove()\n",
    "pop()"
   ]
  },
  {
   "cell_type": "code",
   "execution_count": 22,
   "id": "f0125a6a",
   "metadata": {},
   "outputs": [
    {
     "name": "stdout",
     "output_type": "stream",
     "text": [
      "{'type': 'fruit', 'name': 'banana'}\n"
     ]
    }
   ],
   "source": [
    "del x['color']\n",
    "print(x)"
   ]
  },
  {
   "cell_type": "markdown",
   "id": "5e753296",
   "metadata": {},
   "source": [
    "Exercise\n",
    "?\n",
    "What is a correct syntax for looping through the values of this dictionary:\n",
    "x = {'type' : 'fruit', 'name' : 'apple'}"
   ]
  },
  {
   "cell_type": "code",
   "execution_count": 23,
   "id": "0009b089",
   "metadata": {},
   "outputs": [
    {
     "name": "stdout",
     "output_type": "stream",
     "text": [
      "fruit\n",
      "apple\n"
     ]
    }
   ],
   "source": [
    "x = {'type' : 'fruit', 'name' : 'apple'}\n",
    "for value in x.values():\n",
    "    print(value)"
   ]
  },
  {
   "cell_type": "markdown",
   "id": "3e4abb33",
   "metadata": {},
   "source": [
    "Exercise\n",
    "?\n",
    "What is a correct syntax for making a copy of this dictionary:\n",
    "x = {'type' : 'fruit', 'name' : 'apple'}"
   ]
  },
  {
   "cell_type": "code",
   "execution_count": 27,
   "id": "fdb3e553",
   "metadata": {},
   "outputs": [
    {
     "name": "stdout",
     "output_type": "stream",
     "text": [
      "{'type': 'fruit', 'name': 'apple'}\n",
      "{'type': 'fruit', 'name': 'apple'} {'type': 'red', 'name': 'apple'}\n"
     ]
    }
   ],
   "source": [
    "x = {'type' : 'fruit', 'name' : 'apple'}\n",
    "xCopy = x.copy()\n",
    "print(xCopy)\n",
    "xCopy['type'] = 'red'\n",
    "print(x, xCopy)"
   ]
  },
  {
   "cell_type": "markdown",
   "id": "908748e2",
   "metadata": {},
   "source": [
    "a = {'name' : 'John', 'age' : '20'}\n",
    "b = {'name' : 'May', 'age' : '23'}\n",
    "customers = {'c1' : a, 'c2' : b}\n",
    "what will be a correct syntax for printing the name 'May'?"
   ]
  },
  {
   "cell_type": "code",
   "execution_count": 28,
   "id": "1059f53e",
   "metadata": {},
   "outputs": [
    {
     "data": {
      "text/plain": [
       "'May'"
      ]
     },
     "execution_count": 28,
     "metadata": {},
     "output_type": "execute_result"
    }
   ],
   "source": [
    "a = {'name' : 'John', 'age' : '20'}\n",
    "b = {'name' : 'May', 'age' : '23'}\n",
    "customers = {'c1' : a, 'c2' : b}\n",
    "customers['c2']['name']"
   ]
  },
  {
   "cell_type": "markdown",
   "id": "1342e27a",
   "metadata": {},
   "source": [
    "### Funciones en python"
   ]
  },
  {
   "cell_type": "code",
   "execution_count": null,
   "id": "dba749cc",
   "metadata": {},
   "outputs": [
    {
     "name": "stdout",
     "output_type": "stream",
     "text": [
      " con edad 12\n"
     ]
    }
   ],
   "source": [
    "# Funciones sin parametros\n",
    "\n",
    "def pedirDatos():\n",
    "    nombre = input('Ingresa tu nombre')\n",
    "    edad = int(input('Ingrese su edad'))\n",
    "    print(f'{nombre} con edad {edad}')\n",
    "\n",
    "pedirDatos()"
   ]
  },
  {
   "cell_type": "code",
   "execution_count": 2,
   "id": "e13bceb5",
   "metadata": {},
   "outputs": [
    {
     "name": "stdout",
     "output_type": "stream",
     "text": [
      "200\n"
     ]
    }
   ],
   "source": [
    "# Funciones con parametros\n",
    "def areaRectangulo(base, altura):\n",
    "    return base * altura\n",
    "\n",
    "print(areaRectangulo(10, 20))\n"
   ]
  },
  {
   "cell_type": "markdown",
   "id": "efcbd2f7",
   "metadata": {},
   "source": [
    "# Paso de valores a funciones en Python\n",
    "\n",
    "En Python, la forma de pasar valores a funciones no se clasifica estrictamente como \"por valor\" o \"por referencia\" como en otros lenguajes. En realidad, Python usa un mecanismo conocido como \"paso por asignación\" (pass by assignment) o \"paso por objeto\".\n",
    "\n",
    "## Formas básicas de pasar valores\n",
    "\n",
    "### 1. Argumentos posicionales\n",
    "Se pasan en el mismo orden en que están definidos en la función.\n",
    "\n",
    "```python\n",
    "def saludar(nombre, mensaje):\n",
    "    print(f\"{mensaje}, {nombre}\")\n",
    "    \n",
    "# Llamando a la función\n",
    "saludar(\"Juan\", \"Hola\")  # Imprime: Hola, Juan\n",
    "```\n",
    "\n",
    "### 2. Argumentos con nombre (keyword arguments)\n",
    "Se pasan especificando el nombre del parámetro.\n",
    "\n",
    "```python\n",
    "saludar(nombre=\"María\", mensaje=\"Bienvenida\")  # Imprime: Bienvenida, María\n",
    "saludar(mensaje=\"Buenos días\", nombre=\"Carlos\")  # Imprime: Buenos días, Carlos\n",
    "```\n",
    "\n",
    "### 3. Valores predeterminados\n",
    "Puedes definir valores por defecto para los parámetros.\n",
    "\n",
    "```python\n",
    "def saludar(nombre, mensaje=\"Hola\"):\n",
    "    print(f\"{mensaje}, {nombre}\")\n",
    "    \n",
    "saludar(\"Ana\")  # Imprime: Hola, Ana\n",
    "saludar(\"Pedro\", \"Buenas tardes\")  # Imprime: Buenas tardes, Pedro\n",
    "```\n",
    "\n",
    "### 4. Número variable de argumentos posicionales (*args)\n",
    "\n",
    "```python\n",
    "def sumar(*numeros):\n",
    "    total = 0\n",
    "    for numero in numeros:\n",
    "        total += numero\n",
    "    return total\n",
    "    \n",
    "resultado = sumar(1, 2, 3, 4, 5)  # resultado = 15\n",
    "```\n",
    "\n",
    "### 5. Número variable de argumentos con nombre (**kwargs)\n",
    "\n",
    "```python\n",
    "def mostrar_datos(**datos):\n",
    "    for clave, valor in datos.items():\n",
    "        print(f\"{clave}: {valor}\")\n",
    "        \n",
    "mostrar_datos(nombre=\"Luis\", edad=30, ciudad=\"Madrid\")\n",
    "```\n",
    "\n",
    "## Paso por valor vs. Paso por referencia en Python\n",
    "\n",
    "### Comportamiento con objetos inmutables\n",
    "\n",
    "Cuando pasas objetos inmutables (como números, strings, tuplas), el comportamiento parece similar al \"paso por valor\":\n",
    "\n",
    "```python\n",
    "def modificar(x):\n",
    "    x = x + 1  # Crea un nuevo objeto\n",
    "    print(f\"Dentro de la función: {x}\")\n",
    "    \n",
    "numero = 5\n",
    "print(f\"Antes de la función: {numero}\")\n",
    "modificar(numero)\n",
    "print(f\"Después de la función: {numero}\")  # Sigue siendo 5\n",
    "```\n",
    "\n",
    "Salida:\n",
    "```\n",
    "Antes de la función: 5\n",
    "Dentro de la función: 6\n",
    "Después de la función: 5\n",
    "```\n",
    "\n",
    "### Comportamiento con objetos mutables\n",
    "\n",
    "Cuando pasas objetos mutables (como listas, diccionarios, objetos de clases), el comportamiento se parece al \"paso por referencia\":\n",
    "\n",
    "```python\n",
    "def modificar_lista(lista):\n",
    "    lista.append(4)  # Modifica el objeto original\n",
    "    print(f\"Dentro de la función: {lista}\")\n",
    "    \n",
    "mi_lista = [1, 2, 3]\n",
    "print(f\"Antes de la función: {mi_lista}\")\n",
    "modificar_lista(mi_lista)\n",
    "print(f\"Después de la función: {mi_lista}\")  # Ahora es [1, 2, 3, 4]\n",
    "```\n",
    "\n",
    "Salida:\n",
    "```\n",
    "Antes de la función: [1, 2, 3]\n",
    "Dentro de la función: [1, 2, 3, 4]\n",
    "Después de la función: [1, 2, 3, 4]\n",
    "```\n",
    "\n",
    "### Reasignación de objetos mutables\n",
    "\n",
    "Si reasignas completamente un objeto mutable dentro de la función, el objeto original no cambia:\n",
    "\n",
    "```python\n",
    "def reasignar_lista(lista):\n",
    "    lista = [7, 8, 9]  # Crea una nueva lista\n",
    "    print(f\"Dentro de la función: {lista}\")\n",
    "    \n",
    "mi_lista = [1, 2, 3]\n",
    "print(f\"Antes de la función: {mi_lista}\")\n",
    "reasignar_lista(mi_lista)\n",
    "print(f\"Después de la función: {mi_lista}\")  # Sigue siendo [1, 2, 3]\n",
    "```\n",
    "\n",
    "Salida:\n",
    "```\n",
    "Antes de la función: [1, 2, 3]\n",
    "Dentro de la función: [7, 8, 9]\n",
    "Después de la función: [1, 2, 3]\n",
    "```\n",
    "\n",
    "## Explicación clave\n",
    "\n",
    "1. En Python, las variables son referencias a objetos.\n",
    "2. Cuando pasas una variable a una función, estás pasando la referencia al objeto.\n",
    "3. Si modificas el contenido del objeto (con métodos como `.append()`), afectas al objeto original.\n",
    "4. Si reasignas la variable dentro de la función, solo cambias a qué objeto apunta esa variable local, sin afectar a la variable original.\n",
    "\n",
    "Esta es la razón por la que en Python no se habla estrictamente de \"paso por valor\" o \"paso por referencia\", sino de \"paso por asignación\"."
   ]
  },
  {
   "cell_type": "markdown",
   "id": "e702cb47",
   "metadata": {},
   "source": [
    "Desarrollar un algoritmo que contenga 5 funciones:\n",
    "\n",
    "-   Una función que le pida al usuario su nombre y me de un mensaje como. Hola y el nombre que digite el usuario.\n",
    "\n",
    "-   Una función que me calcule el área de un triangulo rectángulo.\n",
    "-   Una función queme calcule el perímetro de un cuadrado.\n",
    "-   Una función que determine si un número digitado por el usuario es par o no.\n",
    "-   Una función donde se definan 8 variables de diferente tipo y me imprima que tipo de datos son.\n",
    "-   Una función que determine el sueldo de un empleado teniendo en cuenta mínimo dos variables."
   ]
  },
  {
   "cell_type": "code",
   "execution_count": 3,
   "id": "5194f3fb",
   "metadata": {},
   "outputs": [
    {
     "name": "stdout",
     "output_type": "stream",
     "text": [
      "Hola jose\n"
     ]
    }
   ],
   "source": [
    "# Funciones de ejercios\n",
    "\n",
    "# funcion 1\n",
    "def saludar():\n",
    "    nombre = input('Ingresa tu nombre ')\n",
    "    print(f'Hola {nombre}')\n",
    "\n",
    "saludar()"
   ]
  },
  {
   "cell_type": "code",
   "execution_count": 4,
   "id": "2e469fb2",
   "metadata": {},
   "outputs": [
    {
     "name": "stdout",
     "output_type": "stream",
     "text": [
      "3.0\n"
     ]
    }
   ],
   "source": [
    "# funcion 2\n",
    "\n",
    "def areaTriangulo(base, altura):\n",
    "    return (base * altura) / 2\n",
    "\n",
    "print(areaTriangulo(3, 2))"
   ]
  },
  {
   "cell_type": "code",
   "execution_count": 5,
   "id": "b5096dd6",
   "metadata": {},
   "outputs": [
    {
     "name": "stdout",
     "output_type": "stream",
     "text": [
      "8\n"
     ]
    }
   ],
   "source": [
    "# perimetro de cuadrado\n",
    "\n",
    "def perimetroCuadrado(lado):\n",
    "    return 4 * lado\n",
    "\n",
    "print(perimetroCuadrado(2)) "
   ]
  },
  {
   "cell_type": "code",
   "execution_count": 6,
   "id": "b9f327ee",
   "metadata": {},
   "outputs": [
    {
     "name": "stdout",
     "output_type": "stream",
     "text": [
      "False\n"
     ]
    }
   ],
   "source": [
    "# funcion par o impar\n",
    "def isPar(number):\n",
    "    return number % 2 == 0\n",
    "\n",
    "number = int(input('Ingrese un numero'))\n",
    "print(isPar(number))"
   ]
  },
  {
   "cell_type": "code",
   "execution_count": 14,
   "id": "ca0c2589",
   "metadata": {},
   "outputs": [
    {
     "name": "stdout",
     "output_type": "stream",
     "text": [
      "<class 'int'>\n",
      "<class 'str'>\n",
      "<class 'bool'>\n",
      "<class 'dict'>\n",
      "<class 'list'>\n",
      "<class 'tuple'>\n",
      "<class 'set'>\n",
      "<class 'numpy.ndarray'>\n"
     ]
    }
   ],
   "source": [
    "import numpy as np\n",
    "# funcion tipo variables\n",
    "\n",
    "def typeItems():\n",
    "    listItems = [1, 'a', True, {'name':'jose'}, [1,2,3], (4,5), {11,4,5}, np.array([2,3,2])]\n",
    "    for item in listItems:\n",
    "        print(type(item)) \n",
    "\n",
    "typeItems()"
   ]
  },
  {
   "cell_type": "code",
   "execution_count": 16,
   "id": "aec44aae",
   "metadata": {},
   "outputs": [
    {
     "name": "stdout",
     "output_type": "stream",
     "text": [
      "Total a pagar 500.0\n"
     ]
    }
   ],
   "source": [
    "# Sueldo de empleado\n",
    "def sueldo(horas, pagoPorHora):\n",
    "    return horas * pagoPorHora\n",
    "\n",
    "horas = int(input('Ingrese horas trabajadas'))\n",
    "pagoPorHora = float(input('Ingrese pago por hora'))\n",
    "print(f'Total a pagar {sueldo(horas, pagoPorHora)}')"
   ]
  }
 ],
 "metadata": {
  "kernelspec": {
   "display_name": "Python 3",
   "language": "python",
   "name": "python3"
  },
  "language_info": {
   "codemirror_mode": {
    "name": "ipython",
    "version": 3
   },
   "file_extension": ".py",
   "mimetype": "text/x-python",
   "name": "python",
   "nbconvert_exporter": "python",
   "pygments_lexer": "ipython3",
   "version": "3.13.0"
  }
 },
 "nbformat": 4,
 "nbformat_minor": 5
}
